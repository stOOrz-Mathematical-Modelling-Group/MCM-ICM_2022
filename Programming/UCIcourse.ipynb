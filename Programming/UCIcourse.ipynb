from PIL import Image
im=Image.open("D:/MathModelling/2022MCM-ICM/uci-2.png")
maxns=[0 for i in range(1000000)]
for x in range(im.size[0]):
    tot=0
#    print(x)
    for y in range(im.size[1]):
        pix=im.getpixel((x,y))
        if(pix[3]==255):
            tot+=1
        else:
            maxns[x]=max(maxns[x],tot)
            tot=0
        pre=pix
        maxns[x]=max(maxns[x],tot)
for x in range(im.size[0]):
    print(maxns[x])
import matplotlib.pyplot as plt
datax = datay = [0 for i in range(im.size[0])]
datax=range(im.size[0])
for i in range(im.size[0]):
    datay[i]=maxns[datax[i]]
fig=plt.figure(figsize=(10,1),dpi=80)
plt.plot(datax,datay)
plt.show()