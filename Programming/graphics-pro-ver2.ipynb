{
 "cells": [
  {
   "cell_type": "code",
   "execution_count": 4,
   "id": "328371aa",
   "metadata": {},
   "outputs": [
    {
     "name": "stdout",
     "output_type": "stream",
     "text": [
      "Please input the initial energy: 2403.5\n",
      "Please input the total mass of the athlete and the bicycle: 1\n",
      "Please input the number of slopes: 1\n",
      "Please enter the length of track number 1: 100\n",
      "Please enter the slope of track number 1: 100\n",
      "9.4\n",
      "162.2184857070871\n"
     ]
    }
   ],
   "source": [
    "# import math\n",
    "import matplotlib.pyplot as plt\n",
    "import numpy as np\n",
    "from scipy.integrate import odeint\n",
    "import scipy.integrate as integrate\n",
    "from scipy.integrate import quad\n",
    "INTERVAL=0.1\n",
    "LEFT=0\n",
    "RIGHT=600\n",
    "m = 1 # kg\n",
    "k=0.00324844 # kg/m\n",
    "F = 12.2 # N/kg\n",
    "g = 9.8 # m/s^2\n",
    "eps = 0.4\n",
    "u = 0.6\n",
    "r = 0.75 # m\n",
    "#theta = 10\n",
    "th = 0\n",
    "sigma = 41.5\n",
    "\n",
    "A=F-(m*g*u)/(r)-m*g*(math.sin(math.pi*th/180.00))\n",
    "def integrand(t):\n",
    "    return ((math.sqrt(A)*np.tanh( (t*math.sqrt(A*k))/m ))/(math.sqrt(k))+v0) # v-t 函数（倍积函数）\n",
    "def find_first_zero(theta):\n",
    "    for i in range(len(t)-1):\n",
    "        if(energy_final[i]*energy_final[i+1]<=0):\n",
    "            return round(i*INTERVAL,2)\n",
    "        else:\n",
    "            continue\n",
    "v0=0\n",
    "E0=float(input('Please input the initial energy: '))\n",
    "m=float(input('Please input the total mass of the athlete and the bicycle: '))\n",
    "n=int(input('Please input the number of slopes: '))\n",
    "l=[0 for i in range(1000)]\n",
    "theta=[0 for i in range(1000)]\n",
    "t=np.arange(LEFT,RIGHT,INTERVAL)\n",
    "def velocity(v,t):\n",
    "    dvdt = ( F-k*(v**2)-(m*g*miu)/(r)-m*g*(math.sin(math.pi*th/180.00)) )/m\n",
    "    return dvdt\n",
    "\n",
    "def integrand(t):\n",
    "    return ((math.sqrt(A)*np.tanh( (t*math.sqrt(A*k))/m ))/(math.sqrt(k))+v0)\n",
    "def with_bonds(a,b):\n",
    "    inte=quad(integrand,a,b)\n",
    "    return inte[0]\n",
    "    \n",
    "integral_result = [0 for i in range(len(t))]\n",
    "for i in range(len(t)):\n",
    "    integral_result[i] = with_bonds(0,t[i])\n",
    "\n",
    "energy = [0 for i in range(len(t))]\n",
    "for i in range(len(t)):\n",
    "    energy[i] = sigma*t[i] - eps*F*integral_result[i]\n",
    "\n",
    "energy_final = [energy[i]+E0 for i in range(len(t))]\n",
    "for i in range(n):\n",
    "    print('Please enter the length of track number ',end='')\n",
    "    print(i+1,end=': ')\n",
    "    l[i]=float(input())\n",
    "    print('Please enter the slope of track number ',end='')\n",
    "    print(i+1,end=': ')\n",
    "    theta[i]=float(input())\n",
    "def find_root_energy(energ):\n",
    "    for i in range(len(t)-2):\n",
    "        if (energy_final[i]-energ)*(energy_final[i+1]-energ)<=0:\n",
    "            return round(i*INTERVAL,2)\n",
    "        else:\n",
    "            continue\n",
    "t=find_root_energy(2000)\n",
    "print(t)\n",
    "dis_t = with_bonds(0,t)\n",
    "print(dis_t)"
   ]
  },
  {
   "cell_type": "code",
   "execution_count": null,
   "id": "7390009f",
   "metadata": {},
   "outputs": [],
   "source": [
    "# for i in range(n):\n",
    "    y=[0 for i in range(100000)]\n",
    "    x=[0 for i in range(100000)]\n",
    "    th=theta[i]\n",
    "    A=F-(m*g*u)/(r)-m*g*(math.sin(math.pi*th/180.00))\n",
    "    j=0.0\n",
    "    t1= #占位 加速时间\n",
    "    t3= # 减速时间\n",
    "    # 不妨令 t1=2t3（？）"
   ]
  },
  {
   "cell_type": "code",
   "execution_count": null,
   "id": "541c0f38",
   "metadata": {},
   "outputs": [],
   "source": []
  }
 ],
 "metadata": {
  "kernelspec": {
   "display_name": "Python 3",
   "language": "python",
   "name": "python3"
  },
  "language_info": {
   "codemirror_mode": {
    "name": "ipython",
    "version": 3
   },
   "file_extension": ".py",
   "mimetype": "text/x-python",
   "name": "python",
   "nbconvert_exporter": "python",
   "pygments_lexer": "ipython3",
   "version": "3.8.8"
  }
 },
 "nbformat": 4,
 "nbformat_minor": 5
}
